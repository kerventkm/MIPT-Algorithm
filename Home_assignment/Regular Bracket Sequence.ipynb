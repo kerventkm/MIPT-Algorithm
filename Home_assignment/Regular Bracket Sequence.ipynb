{
 "cells": [
  {
   "cell_type": "code",
   "execution_count": 4,
   "id": "e5e15b6b",
   "metadata": {},
   "outputs": [
    {
     "name": "stdout",
     "output_type": "stream",
     "text": [
      "yes\n"
     ]
    }
   ],
   "source": [
    "# with open(\"input.txt\") as f:\n",
    "#     content = list(map(str, f.read().split()))\n",
    "\n",
    "content = [\"[\", \"(\", \")\", \"]\"]\n",
    "res = []\n",
    "good = [(\"(\", \")\"), (\"[\", \"]\"), (\"{\", \"}\")]\n",
    "\n",
    "for b in content:\n",
    "    if len(res) == 0:\n",
    "        res.append(b)\n",
    "    else:\n",
    "        if (res[-1], b) in good:\n",
    "            res.pop()\n",
    "        else:\n",
    "            res.append(b)\n",
    "\n",
    "if len(res) == 0:\n",
    "    print(\"yes\")\n",
    "else:\n",
    "    print(\"no\")"
   ]
  },
  {
   "cell_type": "code",
   "execution_count": 8,
   "id": "0193072e",
   "metadata": {},
   "outputs": [
    {
     "name": "stdout",
     "output_type": "stream",
     "text": [
      "yes\n"
     ]
    }
   ],
   "source": [
    "class Stack():\n",
    "    def __init__(self, max_length):\n",
    "        self.data = [None] * max_length\n",
    "        self.len = 0\n",
    "        \n",
    "    def push(self, value):\n",
    "        self.data[self.len] = value\n",
    "        self.len += 1\n",
    "        \n",
    "    def front(self):\n",
    "        return self.data[self.len - 1]\n",
    "        \n",
    "    def pop(self):\n",
    "        res = self.front()\n",
    "        self.len -= 1\n",
    "        return res\n",
    "    \n",
    "    def clear():\n",
    "        self.len == 0\n",
    "    \n",
    "    def __len__():\n",
    "        return self.len\n",
    "        \n",
    "our_stack = Stack(200000)\n",
    "    \n",
    "# with open(\"input.txt\") as f:\n",
    "#     content = list(map(str, f.read()))[:-1]\n",
    "\n",
    "content = [\"[\", \"(\", \")\", \"]\"]\n",
    "\n",
    "good = [(\"(\", \")\"), (\"[\", \"]\"), (\"{\", \"}\")]\n",
    "\n",
    "for b in content:\n",
    "    if our_stack.len == 0:\n",
    "        our_stack.push(b)\n",
    "    else:\n",
    "        if (our_stack.front(), b) in good:\n",
    "            our_stack.pop()\n",
    "        else:\n",
    "            our_stack.push(b)\n",
    "\n",
    "if our_stack.len == 0:\n",
    "    print(\"yes\")\n",
    "else:\n",
    "    print(\"no\")\n"
   ]
  },
  {
   "cell_type": "code",
   "execution_count": null,
   "id": "dca681b4",
   "metadata": {},
   "outputs": [],
   "source": []
  },
  {
   "cell_type": "code",
   "execution_count": 1,
   "id": "ef531a19",
   "metadata": {},
   "outputs": [],
   "source": [
    "res = [1,2,3,4,54]"
   ]
  },
  {
   "cell_type": "code",
   "execution_count": 2,
   "id": "457b563c",
   "metadata": {},
   "outputs": [
    {
     "data": {
      "text/plain": [
       "54"
      ]
     },
     "execution_count": 2,
     "metadata": {},
     "output_type": "execute_result"
    }
   ],
   "source": [
    "res.pop()"
   ]
  },
  {
   "cell_type": "code",
   "execution_count": 3,
   "id": "793300ef",
   "metadata": {},
   "outputs": [
    {
     "data": {
      "text/plain": [
       "[1, 2, 3, 4]"
      ]
     },
     "execution_count": 3,
     "metadata": {},
     "output_type": "execute_result"
    }
   ],
   "source": [
    "res"
   ]
  },
  {
   "cell_type": "code",
   "execution_count": null,
   "id": "c7ae1a1e",
   "metadata": {},
   "outputs": [],
   "source": []
  }
 ],
 "metadata": {
  "kernelspec": {
   "display_name": "Python 3 (ipykernel)",
   "language": "python",
   "name": "python3"
  },
  "language_info": {
   "codemirror_mode": {
    "name": "ipython",
    "version": 3
   },
   "file_extension": ".py",
   "mimetype": "text/x-python",
   "name": "python",
   "nbconvert_exporter": "python",
   "pygments_lexer": "ipython3",
   "version": "3.9.13"
  }
 },
 "nbformat": 4,
 "nbformat_minor": 5
}
